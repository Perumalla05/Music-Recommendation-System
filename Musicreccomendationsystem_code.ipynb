{
 "cells": [
  {
   "cell_type": "code",
   "execution_count": 1,
   "id": "d1e92542-4b36-4acd-9f2f-c55359a0a305",
   "metadata": {},
   "outputs": [],
   "source": [
    "import numpy as np\n",
    "import pandas as pd"
   ]
  },
  {
   "cell_type": "code",
   "execution_count": 2,
   "id": "c798de25-3fe7-48d7-a43a-b12bf9ad1a79",
   "metadata": {},
   "outputs": [],
   "source": [
    "from typing import List, Dict"
   ]
  },
  {
   "cell_type": "code",
   "execution_count": 3,
   "id": "ac0b4a51-acec-4d38-9a84-df425e30750c",
   "metadata": {
    "scrolled": true
   },
   "outputs": [
    {
     "name": "stdout",
     "output_type": "stream",
     "text": [
      "Requirement already satisfied: scikit-learn in c:\\users\\hp\\appdata\\roaming\\jupyterlab-desktop\\jlab_server\\lib\\site-packages (1.6.1)\n",
      "Requirement already satisfied: numpy>=1.19.5 in c:\\users\\hp\\appdata\\roaming\\jupyterlab-desktop\\jlab_server\\lib\\site-packages (from scikit-learn) (2.1.0)\n",
      "Requirement already satisfied: scipy>=1.6.0 in c:\\users\\hp\\appdata\\roaming\\jupyterlab-desktop\\jlab_server\\lib\\site-packages (from scikit-learn) (1.14.1)\n",
      "Requirement already satisfied: joblib>=1.2.0 in c:\\users\\hp\\appdata\\roaming\\jupyterlab-desktop\\jlab_server\\lib\\site-packages (from scikit-learn) (1.4.2)\n",
      "Requirement already satisfied: threadpoolctl>=3.1.0 in c:\\users\\hp\\appdata\\roaming\\jupyterlab-desktop\\jlab_server\\lib\\site-packages (from scikit-learn) (3.5.0)\n"
     ]
    }
   ],
   "source": [
    "!pip install scikit-learn"
   ]
  },
  {
   "cell_type": "code",
   "execution_count": 4,
   "id": "ff6a29fb-885f-4e6e-8c05-f4adf4f1c842",
   "metadata": {},
   "outputs": [],
   "source": [
    "from sklearn.feature_extraction.text import TfidfVectorizer\n",
    "from sklearn.metrics.pairwise import cosine_similarity"
   ]
  },
  {
   "cell_type": "code",
   "execution_count": 25,
   "id": "1591b93f-0bb3-40f6-8e2c-51da9796f67f",
   "metadata": {},
   "outputs": [],
   "source": [
    "songs = pd.read_csv(r'C:\\Users\\HP\\OneDrive\\Desktop\\Music Recommendation\\songdata.csv')"
   ]
  },
  {
   "cell_type": "code",
   "execution_count": 26,
   "id": "c3800e5d-d296-425a-a271-0a52543cfa1a",
   "metadata": {
    "scrolled": true
   },
   "outputs": [
    {
     "data": {
      "text/html": [
       "<div>\n",
       "<style scoped>\n",
       "    .dataframe tbody tr th:only-of-type {\n",
       "        vertical-align: middle;\n",
       "    }\n",
       "\n",
       "    .dataframe tbody tr th {\n",
       "        vertical-align: top;\n",
       "    }\n",
       "\n",
       "    .dataframe thead th {\n",
       "        text-align: right;\n",
       "    }\n",
       "</style>\n",
       "<table border=\"1\" class=\"dataframe\">\n",
       "  <thead>\n",
       "    <tr style=\"text-align: right;\">\n",
       "      <th></th>\n",
       "      <th>artist</th>\n",
       "      <th>song</th>\n",
       "      <th>link</th>\n",
       "      <th>text</th>\n",
       "    </tr>\n",
       "  </thead>\n",
       "  <tbody>\n",
       "    <tr>\n",
       "      <th>0</th>\n",
       "      <td>ABBA</td>\n",
       "      <td>Ahe's My Kind Of Girl</td>\n",
       "      <td>/a/abba/ahes+my+kind+of+girl_20598417.html</td>\n",
       "      <td>Look at her face, it's a wonderful face  \\nAnd...</td>\n",
       "    </tr>\n",
       "    <tr>\n",
       "      <th>1</th>\n",
       "      <td>ABBA</td>\n",
       "      <td>Andante, Andante</td>\n",
       "      <td>/a/abba/andante+andante_20002708.html</td>\n",
       "      <td>Take it easy with me, please  \\nTouch me gentl...</td>\n",
       "    </tr>\n",
       "    <tr>\n",
       "      <th>2</th>\n",
       "      <td>ABBA</td>\n",
       "      <td>As Good As New</td>\n",
       "      <td>/a/abba/as+good+as+new_20003033.html</td>\n",
       "      <td>I'll never know why I had to go  \\nWhy I had t...</td>\n",
       "    </tr>\n",
       "    <tr>\n",
       "      <th>3</th>\n",
       "      <td>ABBA</td>\n",
       "      <td>Bang</td>\n",
       "      <td>/a/abba/bang_20598415.html</td>\n",
       "      <td>Making somebody happy is a question of give an...</td>\n",
       "    </tr>\n",
       "    <tr>\n",
       "      <th>4</th>\n",
       "      <td>ABBA</td>\n",
       "      <td>Bang-A-Boomerang</td>\n",
       "      <td>/a/abba/bang+a+boomerang_20002668.html</td>\n",
       "      <td>Making somebody happy is a question of give an...</td>\n",
       "    </tr>\n",
       "  </tbody>\n",
       "</table>\n",
       "</div>"
      ],
      "text/plain": [
       "  artist                   song                                        link  \\\n",
       "0   ABBA  Ahe's My Kind Of Girl  /a/abba/ahes+my+kind+of+girl_20598417.html   \n",
       "1   ABBA       Andante, Andante       /a/abba/andante+andante_20002708.html   \n",
       "2   ABBA         As Good As New        /a/abba/as+good+as+new_20003033.html   \n",
       "3   ABBA                   Bang                  /a/abba/bang_20598415.html   \n",
       "4   ABBA       Bang-A-Boomerang      /a/abba/bang+a+boomerang_20002668.html   \n",
       "\n",
       "                                                text  \n",
       "0  Look at her face, it's a wonderful face  \\nAnd...  \n",
       "1  Take it easy with me, please  \\nTouch me gentl...  \n",
       "2  I'll never know why I had to go  \\nWhy I had t...  \n",
       "3  Making somebody happy is a question of give an...  \n",
       "4  Making somebody happy is a question of give an...  "
      ]
     },
     "execution_count": 26,
     "metadata": {},
     "output_type": "execute_result"
    }
   ],
   "source": [
    "songs.head()"
   ]
  },
  {
   "cell_type": "code",
   "execution_count": 27,
   "id": "472da04c-cc68-4adb-9fa3-b9bf48a1d9e7",
   "metadata": {},
   "outputs": [],
   "source": [
    "songs = songs.sample(n=5000).drop('link', axis=1).reset_index(drop=True)"
   ]
  },
  {
   "cell_type": "code",
   "execution_count": 29,
   "id": "58110292-c1ff-472d-a3b4-662a5e8e50df",
   "metadata": {
    "scrolled": true
   },
   "outputs": [
    {
     "name": "stdout",
     "output_type": "stream",
     "text": [
      "               artist                     song  \\\n",
      "0           Kim Wilde   Say You Really Want Me   \n",
      "1               Ne-Yo            It's All Good   \n",
      "2           Green Day           Minnesota Girl   \n",
      "3           Zebrahead     Playmate Of The Year   \n",
      "4         Carly Simon           Devoted To You   \n",
      "...               ...                      ...   \n",
      "4995            Clash        Red Angel Dragnet   \n",
      "4996    Conway Twitty              All My Life   \n",
      "4997              HIM        Gone With The Sin   \n",
      "4998     Louis Jordan  Let The Good Times Roll   \n",
      "4999  Nine Inch Nails                   Ruiner   \n",
      "\n",
      "                                                   text  \n",
      "0     Why you always got to be so cool  \\nAnd why I ...  \n",
      "1     Ne-Yo:  \\nOK! Bad day got you seeing red  \\nWa...  \n",
      "2     Sittin' on the hood of a camaro  \\nWalkin' sho...  \n",
      "3     There's this girl I don't know  \\nComes by eve...  \n",
      "4     Darlin' you can count on me  \\nTill the sun dr...  \n",
      "...                                                 ...  \n",
      "4995  I come from a long way away  \\nAnd I know a fi...  \n",
      "4996  Maybe it's the way you kiss me  \\nOr that twin...  \n",
      "4997  I love your skin oh so white  \\nI love your to...  \n",
      "4998  Let the good times roll, let the good times ro...  \n",
      "4999  You had all of them on your side didn't you?  ...  \n",
      "\n",
      "[5000 rows x 3 columns]\n"
     ]
    }
   ],
   "source": [
    "print(songs)"
   ]
  },
  {
   "cell_type": "code",
   "execution_count": 30,
   "id": "6e1ffc6e-f1a1-449a-9f29-f0d120d511ea",
   "metadata": {},
   "outputs": [],
   "source": [
    "songs['text'] = songs['text'].str.replace(r'\\n', '')"
   ]
  },
  {
   "cell_type": "code",
   "execution_count": 31,
   "id": "f2690e97-2103-40a1-b9cc-20e9fd9d2284",
   "metadata": {},
   "outputs": [
    {
     "name": "stdout",
     "output_type": "stream",
     "text": [
      "               artist                     song  \\\n",
      "0           Kim Wilde   Say You Really Want Me   \n",
      "1               Ne-Yo            It's All Good   \n",
      "2           Green Day           Minnesota Girl   \n",
      "3           Zebrahead     Playmate Of The Year   \n",
      "4         Carly Simon           Devoted To You   \n",
      "...               ...                      ...   \n",
      "4995            Clash        Red Angel Dragnet   \n",
      "4996    Conway Twitty              All My Life   \n",
      "4997              HIM        Gone With The Sin   \n",
      "4998     Louis Jordan  Let The Good Times Roll   \n",
      "4999  Nine Inch Nails                   Ruiner   \n",
      "\n",
      "                                                   text  \n",
      "0     Why you always got to be so cool  \\nAnd why I ...  \n",
      "1     Ne-Yo:  \\nOK! Bad day got you seeing red  \\nWa...  \n",
      "2     Sittin' on the hood of a camaro  \\nWalkin' sho...  \n",
      "3     There's this girl I don't know  \\nComes by eve...  \n",
      "4     Darlin' you can count on me  \\nTill the sun dr...  \n",
      "...                                                 ...  \n",
      "4995  I come from a long way away  \\nAnd I know a fi...  \n",
      "4996  Maybe it's the way you kiss me  \\nOr that twin...  \n",
      "4997  I love your skin oh so white  \\nI love your to...  \n",
      "4998  Let the good times roll, let the good times ro...  \n",
      "4999  You had all of them on your side didn't you?  ...  \n",
      "\n",
      "[5000 rows x 3 columns]\n"
     ]
    }
   ],
   "source": [
    "print(songs)"
   ]
  },
  {
   "cell_type": "code",
   "execution_count": 32,
   "id": "f90efe65-5582-4f70-b46e-59b5a5a7fa97",
   "metadata": {},
   "outputs": [],
   "source": [
    "songs['text'] = songs['text'].str.replace(r'\\n', '')"
   ]
  },
  {
   "cell_type": "code",
   "execution_count": 34,
   "id": "7707186b-4eac-4b37-b26f-13a2587beeec",
   "metadata": {},
   "outputs": [],
   "source": [
    "tfidf = TfidfVectorizer(analyzer='word', stop_words='english')"
   ]
  },
  {
   "cell_type": "code",
   "execution_count": 35,
   "id": "abf9fb1a-ee47-4d4d-954b-63e89b795815",
   "metadata": {},
   "outputs": [],
   "source": [
    "lyrics_matrix = tfidf.fit_transform(songs['text'])"
   ]
  },
  {
   "cell_type": "code",
   "execution_count": 36,
   "id": "8d0c0795-a858-41d5-b1ff-be3d9ae47fc3",
   "metadata": {},
   "outputs": [],
   "source": [
    "cosine_similarities = cosine_similarity(lyrics_matrix) "
   ]
  },
  {
   "cell_type": "code",
   "execution_count": 37,
   "id": "abc23972-9415-46fc-a1ba-e170e0b2a23b",
   "metadata": {},
   "outputs": [],
   "source": [
    "similarities = {}"
   ]
  },
  {
   "cell_type": "code",
   "execution_count": 38,
   "id": "761adc03-baca-4d23-96f4-0707d2fb2033",
   "metadata": {},
   "outputs": [],
   "source": [
    "for i in range(len(cosine_similarities)):\n",
    "    # Now we'll sort each element in cosine_similarities and get the indexes of the songs. \n",
    "    similar_indices = cosine_similarities[i].argsort()[:-50:-1] \n",
    "    # After that, we'll store in similarities each name of the 50 most similar songs.\n",
    "    # Except the first one that is the same song.\n",
    "    similarities[songs['song'].iloc[i]] = [(cosine_similarities[i][x], songs['song'][x], songs['artist'][x]) for x in similar_indices][1:]"
   ]
  },
  {
   "cell_type": "code",
   "execution_count": 39,
   "id": "a270fe33-63bf-457a-b43d-ad9ac9c7fbe4",
   "metadata": {},
   "outputs": [],
   "source": [
    "class ContentBasedRecommender:\n",
    "    def __init__(self, matrix):\n",
    "        self.matrix_similar = matrix\n",
    "\n",
    "    def _print_message(self, song, recom_song):\n",
    "        rec_items = len(recom_song)\n",
    "        \n",
    "        print(f'The {rec_items} recommended songs for {song} are:')\n",
    "        for i in range(rec_items):\n",
    "            print(f\"Number {i+1}:\")\n",
    "            print(f\"{recom_song[i][1]} by {recom_song[i][2]} with {round(recom_song[i][0], 3)} similarity score\") \n",
    "            print(\"--------------------\")\n",
    "        \n",
    "    def recommend(self, recommendation):\n",
    "        # Get song to find recommendations for\n",
    "        song = recommendation['song']\n",
    "        # Get number of songs to recommend\n",
    "        number_songs = recommendation['number_songs']\n",
    "        # Get the number of songs most similars from matrix similarities\n",
    "        recom_song = self.matrix_similar[song][:number_songs]\n",
    "        # print each item\n",
    "        self._print_message(song=song, recom_song=recom_song)"
   ]
  },
  {
   "cell_type": "code",
   "execution_count": 41,
   "id": "3bfb00d8-e04a-4f69-be80-e4ce396f3603",
   "metadata": {},
   "outputs": [],
   "source": [
    "recommedations = ContentBasedRecommender(similarities)"
   ]
  },
  {
   "cell_type": "code",
   "execution_count": 42,
   "id": "f1608efb-178b-48d0-9c49-867a973488f0",
   "metadata": {},
   "outputs": [],
   "source": [
    "recommendation = {\n",
    "    \"song\": songs['song'].iloc[10],\n",
    "    \"number_songs\": 4 \n",
    "}"
   ]
  },
  {
   "cell_type": "code",
   "execution_count": 43,
   "id": "76f49082-288f-405e-b46d-99111c9d20a7",
   "metadata": {},
   "outputs": [
    {
     "name": "stdout",
     "output_type": "stream",
     "text": [
      "The 4 recommended songs for Ribbons Of Blue are:\n",
      "Number 1:\n",
      "How Do I Wrap My Heart Up For Christmas by Christmas Songs with 0.278 similarity score\n",
      "--------------------\n",
      "Number 2:\n",
      "Blue Me by Dolly Parton with 0.262 similarity score\n",
      "--------------------\n",
      "Number 3:\n",
      "How Do I Wrap My Heart Up For Christmas by Randy Travis with 0.257 similarity score\n",
      "--------------------\n",
      "Number 4:\n",
      "Blue Christmas by Harry Connick, Jr. with 0.233 similarity score\n",
      "--------------------\n"
     ]
    }
   ],
   "source": [
    "recommedations.recommend(recommendation)"
   ]
  },
  {
   "cell_type": "code",
   "execution_count": 44,
   "id": "174a2740-4af7-42db-9cb8-77f979d3dad5",
   "metadata": {},
   "outputs": [],
   "source": [
    "\n",
    "recommendation2 = {\n",
    "    \"song\": songs['song'].iloc[120],\n",
    "    \"number_songs\": 4 \n",
    "}"
   ]
  },
  {
   "cell_type": "code",
   "execution_count": 45,
   "id": "e721112a-f351-49d6-ad0a-16bea2aa4180",
   "metadata": {},
   "outputs": [
    {
     "name": "stdout",
     "output_type": "stream",
     "text": [
      "The 4 recommended songs for Modern Eyes are:\n",
      "Number 1:\n",
      "I Can't Take My Eyes Off You by Josh Groban with 0.234 similarity score\n",
      "--------------------\n",
      "Number 2:\n",
      "Modern Day Delilah by Kiss with 0.227 similarity score\n",
      "--------------------\n",
      "Number 3:\n",
      "A Modern Day Version Of Love by Neil Diamond with 0.209 similarity score\n",
      "--------------------\n",
      "Number 4:\n",
      "She Closed Her Eyes by Chris Rea with 0.19 similarity score\n",
      "--------------------\n"
     ]
    }
   ],
   "source": [
    "\n",
    "recommedations.recommend(recommendation2)"
   ]
  }
 ],
 "metadata": {
  "kernelspec": {
   "display_name": "Python 3 (ipykernel)",
   "language": "python",
   "name": "python3"
  },
  "language_info": {
   "codemirror_mode": {
    "name": "ipython",
    "version": 3
   },
   "file_extension": ".py",
   "mimetype": "text/x-python",
   "name": "python",
   "nbconvert_exporter": "python",
   "pygments_lexer": "ipython3",
   "version": "3.12.5"
  }
 },
 "nbformat": 4,
 "nbformat_minor": 5
}
